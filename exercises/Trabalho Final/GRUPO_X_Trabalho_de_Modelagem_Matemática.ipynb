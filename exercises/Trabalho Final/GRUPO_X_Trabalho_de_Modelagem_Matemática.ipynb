{
  "nbformat": 4,
  "nbformat_minor": 0,
  "metadata": {
    "colab": {
      "provenance": [],
      "toc_visible": true
    },
    "kernelspec": {
      "name": "python3",
      "display_name": "Python 3"
    },
    "language_info": {
      "name": "python"
    }
  },
  "cells": [
    {
      "cell_type": "markdown",
      "source": [
        "# **Trabalho Acadêmico - Título do Trabalho**\n",
        "\n",
        "### Integrantes\n",
        "NOME COMPLETO - Matrícula"
      ],
      "metadata": {
        "id": "o06dcrWvXa0y"
      }
    },
    {
      "cell_type": "markdown",
      "source": [
        "---\n",
        "## 1. Introdução\n",
        "\n",
        "Nesta seção, o aluno deve introduzir o tema do trabalho e descrever brevemente o problema a ser resolvido. A introdução deve conter:\n",
        "- Contextualização do problema.\n",
        "- Objetivos do trabalho.\n",
        "- Importância do estudo.\n",
        "\n",
        "### Exemplo de Introdução:\n",
        "\"O presente trabalho aborda o controle de temperatura em um tanque de mistura utilizando métodos numéricos. O objetivo é aplicar o método de Runge-Kutta para resolver uma equação diferencial que descreve a variação da temperatura do fluido ao longo do tempo, simulando o comportamento térmico de um processo industrial.\""
      ],
      "metadata": {
        "id": "2J-egPd3Xs1Z"
      }
    },
    {
      "cell_type": "markdown",
      "source": [
        "---\n",
        "\n",
        "## 2. Referencial Teórico\n",
        "\n",
        "Nesta seção, o aluno deve apresentar o embasamento teórico do problema e os métodos numéricos utilizados. Elementos esperados:\n",
        "- Explicação do modelo matemático do problema (ex.: equações diferenciais).\n",
        "- Descrição do método de solução (ex.: método de Euler, método de Runge-Kutta).\n",
        "- Citações de referências, quando necessário.\n"
      ],
      "metadata": {
        "id": "v6Fa5wwwX0OR"
      }
    },
    {
      "cell_type": "markdown",
      "source": [
        "---\n",
        "\n",
        "## 3. Solução dos Exercícios\n",
        "\n",
        "Nesta seção, o aluno deve implementar a solução do problema utilizando Python no Google Colab. Esta parte deve ser dividida em:\n",
        "- Código em Python para resolver o problema.\n",
        "- Explicação do código, incluindo os valores iniciais e o passo a passo do método.\n",
        "- Análise dos resultados obtidos.\n",
        "- Gráficos dos resultados"
      ],
      "metadata": {
        "id": "lpnztzqAX-W_"
      }
    },
    {
      "cell_type": "markdown",
      "source": [
        "### Código do Exercício 01"
      ],
      "metadata": {
        "id": "-UreODA9YF3h"
      }
    },
    {
      "cell_type": "code",
      "execution_count": null,
      "metadata": {
        "id": "KjzyJEMuXIaZ"
      },
      "outputs": [],
      "source": [
        "\n",
        "\n",
        "### Exemplo de Solução:\n",
        "```python\n",
        "# Importando bibliotecas necessárias\n",
        "import numpy as np\n",
        "import matplotlib.pyplot as plt\n",
        "\n",
        "# Parâmetros do problema\n",
        "Q = 0.1  # Vazão de entrada (m³/s)\n",
        "V = 1.0  # Volume do tanque (m³)\n",
        "T_in = 80  # Temperatura do fluido de entrada (°C)\n",
        "T_amb = 25  # Temperatura ambiente (°C)\n",
        "U = 10  # Coeficiente de troca térmica\n",
        "rho = 1000  # Densidade do fluido (kg/m³)\n",
        "cp = 4.18  # Calor específico (J/kg·°C)\n",
        "T0 = 50  # Temperatura inicial (°C)\n",
        "h = 1.0  # Passo de tempo (s)\n",
        "tempo_simulacao = 10  # Duração da simulação (s)\n",
        "\n",
        "# Função para a taxa de variação da temperatura no tanque\n",
        "def dT_dt(T):\n",
        "    return (Q / V) * (T_in - T) - (U / (rho * cp * V)) * (T - T_amb)\n",
        "\n",
        "# Método de Runge-Kutta de quarta ordem\n",
        "tempos = np.arange(0, tempo_simulacao + h, h)\n",
        "temperaturas = np.zeros(len(tempos))\n",
        "temperaturas[0] = T0\n",
        "\n",
        "for i in range(1, len(tempos)):\n",
        "    T = temperaturas[i-1]\n",
        "\n",
        "    k1 = h * dT_dt(T)\n",
        "    k2 = h * dT_dt(T + k1 / 2)\n",
        "    k3 = h * dT_dt(T + k2 / 2)\n",
        "    k4 = h * dT_dt(T + k3)\n",
        "\n",
        "    temperaturas[i] = T + (k1 + 2*k2 + 2*k3 + k4) / 6\n",
        "\n",
        "# Plotando os resultados\n",
        "plt.plot(tempos, temperaturas, label=\"Temperatura do Tanque\")\n",
        "plt.xlabel(\"Tempo (s)\")\n",
        "plt.ylabel(\"Temperatura (°C)\")\n",
        "plt.title(\"Controle de Temperatura em Tanque de Mistura\")\n",
        "plt.legend()\n",
        "plt.grid(True)\n",
        "plt.show()"
      ]
    },
    {
      "cell_type": "markdown",
      "source": [
        "### Análise dos Resultados Obtidos (Exemplo):\n",
        "\t•\tCurva de Decaimento: No gráfico resultante, a curva começa com o valor inicial  y_0 = 100  e diminui gradualmente. Esse comportamento é típico do decaimento exponencial, onde a taxa de decaimento é proporcional à quantidade de substância restante.\n",
        "\t•\tPonto de Meia Vida: Em um modelo de decaimento radioativo, a meia-vida é o tempo necessário para que a quantidade de substância diminua pela metade. Com  k = 0,1 , a meia-vida aproximada pode ser calculada pela fórmula  t_{1/2} = \\frac{\\ln(2)}{k} \\approx 6,93  segundos. No gráfico, podemos identificar o ponto em que a quantidade de substância é aproximadamente 50, correspondendo à meia-vida.\n",
        "\t•\tEfeito da Constante de Decaimento  k : Um valor maior para  k  resultaria em uma taxa de decaimento mais rápida, ou seja, a substância decairia mais rapidamente. Valores menores de  k  retardariam o decaimento.\n",
        "\t4.\tConclusão da Análise:\n",
        "\t•\tO comportamento da curva confirma o modelo matemático do decaimento radioativo, onde a taxa de variação é sempre proporcional à quantidade presente.\n",
        "\t•\tO método de Runge-Kutta, se comparado ao método de Euler, mostra uma curva mais suave e precisa devido aos cálculos intermediários, o que permite uma aproximação mais fiel à solução exata do modelo de decaimento exponencial.\n",
        "\t•\tEsse modelo tem aplicações em várias áreas, como na física nuclear para prever o decaimento de materiais radioativos, em farmacologia para modelar a eliminação de substâncias do corpo, e em processos de engenharia para modelagem de qualquer sistema onde ocorre uma redução proporcional ao valor atual da quantidade."
      ],
      "metadata": {
        "id": "8a-WfsnxYSTH"
      }
    }
  ]
}